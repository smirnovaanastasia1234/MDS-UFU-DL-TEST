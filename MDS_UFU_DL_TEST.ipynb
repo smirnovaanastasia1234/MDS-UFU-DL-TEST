{
  "nbformat": 4,
  "nbformat_minor": 0,
  "metadata": {
    "colab": {
      "provenance": [],
      "toc_visible": true,
      "authorship_tag": "ABX9TyO/ufJMqvx1XSumWsjgG12F",
      "include_colab_link": true
    },
    "kernelspec": {
      "name": "python3",
      "display_name": "Python 3"
    },
    "language_info": {
      "name": "python"
    }
  },
  "cells": [
    {
      "cell_type": "markdown",
      "metadata": {
        "id": "view-in-github",
        "colab_type": "text"
      },
      "source": [
        "<a href=\"https://colab.research.google.com/github/smirnovaanastasia1234/MDS-UFU-DL-TEST/blob/main/MDS_UFU_DL_TEST.ipynb\" target=\"_parent\"><img src=\"https://colab.research.google.com/assets/colab-badge.svg\" alt=\"Open In Colab\"/></a>"
      ]
    },
    {
      "cell_type": "markdown",
      "source": [
        "# Импорт библиотек"
      ],
      "metadata": {
        "id": "8TmmDtu-uAZj"
      }
    },
    {
      "cell_type": "code",
      "execution_count": 1,
      "metadata": {
        "colab": {
          "base_uri": "https://localhost:8080/"
        },
        "id": "1dfTf6uutn0B",
        "outputId": "3e7c3fef-edee-4e80-a74b-09b9778db5f7"
      },
      "outputs": [
        {
          "output_type": "stream",
          "name": "stdout",
          "text": [
            "Looking in indexes: https://pypi.org/simple, https://us-python.pkg.dev/colab-wheels/public/simple/\n",
            "Collecting keract\n",
            "  Downloading keract-4.5.1-py3-none-any.whl (12 kB)\n",
            "Installing collected packages: keract\n",
            "Successfully installed keract-4.5.1\n"
          ]
        }
      ],
      "source": [
        "!pip install keract"
      ]
    },
    {
      "cell_type": "code",
      "source": [
        "from google.colab import files\n",
        "import matplotlib.pyplot as plt\n",
        "\n",
        "import tensorflow as tf\n",
        "from tensorflow import keras\n",
        "import pandas as pd\n",
        "import numpy as np\n",
        "from sklearn.model_selection import train_test_split\n",
        "\n",
        "from tensorflow.keras.models import Sequential, load_model\n",
        "from tensorflow.keras.layers import Dense, Dropout, Flatten, Conv2D, MaxPooling2D"
      ],
      "metadata": {
        "id": "e-44gYLuuE4R"
      },
      "execution_count": 3,
      "outputs": []
    },
    {
      "cell_type": "markdown",
      "source": [
        "# Загрузка данных"
      ],
      "metadata": {
        "id": "ozE5lDKZuSNM"
      }
    },
    {
      "cell_type": "code",
      "source": [
        "uploaded = files.upload() #просто запускаем и выбираем файл  API токена в проводнике"
      ],
      "metadata": {
        "colab": {
          "base_uri": "https://localhost:8080/",
          "height": 73
        },
        "id": "5MVjwVmLuVem",
        "outputId": "600c83cd-abd2-4964-fb58-d379ac8fc3e5"
      },
      "execution_count": 4,
      "outputs": [
        {
          "output_type": "display_data",
          "data": {
            "text/plain": [
              "<IPython.core.display.HTML object>"
            ],
            "text/html": [
              "\n",
              "     <input type=\"file\" id=\"files-37572629-3cc2-455e-9998-5c292c1c5dbe\" name=\"files[]\" multiple disabled\n",
              "        style=\"border:none\" />\n",
              "     <output id=\"result-37572629-3cc2-455e-9998-5c292c1c5dbe\">\n",
              "      Upload widget is only available when the cell has been executed in the\n",
              "      current browser session. Please rerun this cell to enable.\n",
              "      </output>\n",
              "      <script>// Copyright 2017 Google LLC\n",
              "//\n",
              "// Licensed under the Apache License, Version 2.0 (the \"License\");\n",
              "// you may not use this file except in compliance with the License.\n",
              "// You may obtain a copy of the License at\n",
              "//\n",
              "//      http://www.apache.org/licenses/LICENSE-2.0\n",
              "//\n",
              "// Unless required by applicable law or agreed to in writing, software\n",
              "// distributed under the License is distributed on an \"AS IS\" BASIS,\n",
              "// WITHOUT WARRANTIES OR CONDITIONS OF ANY KIND, either express or implied.\n",
              "// See the License for the specific language governing permissions and\n",
              "// limitations under the License.\n",
              "\n",
              "/**\n",
              " * @fileoverview Helpers for google.colab Python module.\n",
              " */\n",
              "(function(scope) {\n",
              "function span(text, styleAttributes = {}) {\n",
              "  const element = document.createElement('span');\n",
              "  element.textContent = text;\n",
              "  for (const key of Object.keys(styleAttributes)) {\n",
              "    element.style[key] = styleAttributes[key];\n",
              "  }\n",
              "  return element;\n",
              "}\n",
              "\n",
              "// Max number of bytes which will be uploaded at a time.\n",
              "const MAX_PAYLOAD_SIZE = 100 * 1024;\n",
              "\n",
              "function _uploadFiles(inputId, outputId) {\n",
              "  const steps = uploadFilesStep(inputId, outputId);\n",
              "  const outputElement = document.getElementById(outputId);\n",
              "  // Cache steps on the outputElement to make it available for the next call\n",
              "  // to uploadFilesContinue from Python.\n",
              "  outputElement.steps = steps;\n",
              "\n",
              "  return _uploadFilesContinue(outputId);\n",
              "}\n",
              "\n",
              "// This is roughly an async generator (not supported in the browser yet),\n",
              "// where there are multiple asynchronous steps and the Python side is going\n",
              "// to poll for completion of each step.\n",
              "// This uses a Promise to block the python side on completion of each step,\n",
              "// then passes the result of the previous step as the input to the next step.\n",
              "function _uploadFilesContinue(outputId) {\n",
              "  const outputElement = document.getElementById(outputId);\n",
              "  const steps = outputElement.steps;\n",
              "\n",
              "  const next = steps.next(outputElement.lastPromiseValue);\n",
              "  return Promise.resolve(next.value.promise).then((value) => {\n",
              "    // Cache the last promise value to make it available to the next\n",
              "    // step of the generator.\n",
              "    outputElement.lastPromiseValue = value;\n",
              "    return next.value.response;\n",
              "  });\n",
              "}\n",
              "\n",
              "/**\n",
              " * Generator function which is called between each async step of the upload\n",
              " * process.\n",
              " * @param {string} inputId Element ID of the input file picker element.\n",
              " * @param {string} outputId Element ID of the output display.\n",
              " * @return {!Iterable<!Object>} Iterable of next steps.\n",
              " */\n",
              "function* uploadFilesStep(inputId, outputId) {\n",
              "  const inputElement = document.getElementById(inputId);\n",
              "  inputElement.disabled = false;\n",
              "\n",
              "  const outputElement = document.getElementById(outputId);\n",
              "  outputElement.innerHTML = '';\n",
              "\n",
              "  const pickedPromise = new Promise((resolve) => {\n",
              "    inputElement.addEventListener('change', (e) => {\n",
              "      resolve(e.target.files);\n",
              "    });\n",
              "  });\n",
              "\n",
              "  const cancel = document.createElement('button');\n",
              "  inputElement.parentElement.appendChild(cancel);\n",
              "  cancel.textContent = 'Cancel upload';\n",
              "  const cancelPromise = new Promise((resolve) => {\n",
              "    cancel.onclick = () => {\n",
              "      resolve(null);\n",
              "    };\n",
              "  });\n",
              "\n",
              "  // Wait for the user to pick the files.\n",
              "  const files = yield {\n",
              "    promise: Promise.race([pickedPromise, cancelPromise]),\n",
              "    response: {\n",
              "      action: 'starting',\n",
              "    }\n",
              "  };\n",
              "\n",
              "  cancel.remove();\n",
              "\n",
              "  // Disable the input element since further picks are not allowed.\n",
              "  inputElement.disabled = true;\n",
              "\n",
              "  if (!files) {\n",
              "    return {\n",
              "      response: {\n",
              "        action: 'complete',\n",
              "      }\n",
              "    };\n",
              "  }\n",
              "\n",
              "  for (const file of files) {\n",
              "    const li = document.createElement('li');\n",
              "    li.append(span(file.name, {fontWeight: 'bold'}));\n",
              "    li.append(span(\n",
              "        `(${file.type || 'n/a'}) - ${file.size} bytes, ` +\n",
              "        `last modified: ${\n",
              "            file.lastModifiedDate ? file.lastModifiedDate.toLocaleDateString() :\n",
              "                                    'n/a'} - `));\n",
              "    const percent = span('0% done');\n",
              "    li.appendChild(percent);\n",
              "\n",
              "    outputElement.appendChild(li);\n",
              "\n",
              "    const fileDataPromise = new Promise((resolve) => {\n",
              "      const reader = new FileReader();\n",
              "      reader.onload = (e) => {\n",
              "        resolve(e.target.result);\n",
              "      };\n",
              "      reader.readAsArrayBuffer(file);\n",
              "    });\n",
              "    // Wait for the data to be ready.\n",
              "    let fileData = yield {\n",
              "      promise: fileDataPromise,\n",
              "      response: {\n",
              "        action: 'continue',\n",
              "      }\n",
              "    };\n",
              "\n",
              "    // Use a chunked sending to avoid message size limits. See b/62115660.\n",
              "    let position = 0;\n",
              "    do {\n",
              "      const length = Math.min(fileData.byteLength - position, MAX_PAYLOAD_SIZE);\n",
              "      const chunk = new Uint8Array(fileData, position, length);\n",
              "      position += length;\n",
              "\n",
              "      const base64 = btoa(String.fromCharCode.apply(null, chunk));\n",
              "      yield {\n",
              "        response: {\n",
              "          action: 'append',\n",
              "          file: file.name,\n",
              "          data: base64,\n",
              "        },\n",
              "      };\n",
              "\n",
              "      let percentDone = fileData.byteLength === 0 ?\n",
              "          100 :\n",
              "          Math.round((position / fileData.byteLength) * 100);\n",
              "      percent.textContent = `${percentDone}% done`;\n",
              "\n",
              "    } while (position < fileData.byteLength);\n",
              "  }\n",
              "\n",
              "  // All done.\n",
              "  yield {\n",
              "    response: {\n",
              "      action: 'complete',\n",
              "    }\n",
              "  };\n",
              "}\n",
              "\n",
              "scope.google = scope.google || {};\n",
              "scope.google.colab = scope.google.colab || {};\n",
              "scope.google.colab._files = {\n",
              "  _uploadFiles,\n",
              "  _uploadFilesContinue,\n",
              "};\n",
              "})(self);\n",
              "</script> "
            ]
          },
          "metadata": {}
        },
        {
          "output_type": "stream",
          "name": "stdout",
          "text": [
            "Saving kaggle.json to kaggle.json\n"
          ]
        }
      ]
    },
    {
      "cell_type": "code",
      "source": [
        "#↓ строка которая активирует наш API токен\n",
        "!mkdir -p ~/.kaggle/ && mv kaggle.json ~/.kaggle/ && chmod 600 ~/.kaggle/kaggle.json"
      ],
      "metadata": {
        "id": "Kb7Iv3SmufGz"
      },
      "execution_count": 5,
      "outputs": []
    },
    {
      "cell_type": "code",
      "source": [
        "#↓ добавился восклицательный знак, потому что это колаб\n",
        "!kaggle competitions download -c mds-ufu-dl-test"
      ],
      "metadata": {
        "colab": {
          "base_uri": "https://localhost:8080/"
        },
        "id": "HkRPfZ2BuhHv",
        "outputId": "992715e8-124a-456b-9149-78b47f3fba45"
      },
      "execution_count": 6,
      "outputs": [
        {
          "output_type": "stream",
          "name": "stdout",
          "text": [
            "Downloading mds-ufu-dl-test.zip to /content\n",
            " 30% 5.00M/16.7M [00:00<00:00, 30.0MB/s]\n",
            "100% 16.7M/16.7M [00:00<00:00, 72.4MB/s]\n"
          ]
        }
      ]
    },
    {
      "cell_type": "code",
      "source": [
        "#↓ \"распакуй\" + имя архива\n",
        "!unzip mds-ufu-dl-test.zip"
      ],
      "metadata": {
        "colab": {
          "base_uri": "https://localhost:8080/"
        },
        "id": "dkOugd-pujbU",
        "outputId": "28259768-ae5d-4726-9d2d-51af4dbbfe22"
      },
      "execution_count": 7,
      "outputs": [
        {
          "output_type": "stream",
          "name": "stdout",
          "text": [
            "Archive:  mds-ufu-dl-test.zip\n",
            "  inflating: fmnist_test.csv         \n",
            "  inflating: fmnist_train.csv        \n",
            "  inflating: sample_submission.csv   \n"
          ]
        }
      ]
    },
    {
      "cell_type": "markdown",
      "source": [
        "# Загружаем данные в Pandas"
      ],
      "metadata": {
        "id": "DTcT3RPtu8vD"
      }
    },
    {
      "cell_type": "code",
      "source": [
        "train=pd.read_csv(\"fmnist_train.csv\")\n",
        "test=pd.read_csv(\"fmnist_test.csv\")"
      ],
      "metadata": {
        "id": "18El5izhu9p7"
      },
      "execution_count": 8,
      "outputs": []
    },
    {
      "cell_type": "code",
      "source": [
        "train.isnull().sum().sum()"
      ],
      "metadata": {
        "colab": {
          "base_uri": "https://localhost:8080/"
        },
        "id": "BImdT8TSvH5z",
        "outputId": "bd0b7273-3f3c-4c17-8acb-9b546045bcbf"
      },
      "execution_count": 9,
      "outputs": [
        {
          "output_type": "execute_result",
          "data": {
            "text/plain": [
              "424"
            ]
          },
          "metadata": {},
          "execution_count": 9
        }
      ]
    },
    {
      "cell_type": "markdown",
      "source": [
        "# Анализ данных"
      ],
      "metadata": {
        "id": "RlAOkDhTvYaJ"
      }
    },
    {
      "cell_type": "code",
      "source": [
        "train = train.fillna(0)"
      ],
      "metadata": {
        "id": "6IoUZ2gRvKyE"
      },
      "execution_count": 10,
      "outputs": []
    },
    {
      "cell_type": "code",
      "source": [
        "train.isnull().sum().sum()"
      ],
      "metadata": {
        "colab": {
          "base_uri": "https://localhost:8080/"
        },
        "id": "7YndyoBRvND0",
        "outputId": "0967692f-84ea-41c1-cc18-4f920f004379"
      },
      "execution_count": 11,
      "outputs": [
        {
          "output_type": "execute_result",
          "data": {
            "text/plain": [
              "0"
            ]
          },
          "metadata": {},
          "execution_count": 11
        }
      ]
    },
    {
      "cell_type": "code",
      "source": [
        "test.isnull().sum().sum()"
      ],
      "metadata": {
        "colab": {
          "base_uri": "https://localhost:8080/"
        },
        "id": "AavPrRiZvPSQ",
        "outputId": "38d1616f-0fa0-4c9d-afc6-ec16e16026c8"
      },
      "execution_count": 12,
      "outputs": [
        {
          "output_type": "execute_result",
          "data": {
            "text/plain": [
              "0"
            ]
          },
          "metadata": {},
          "execution_count": 12
        }
      ]
    },
    {
      "cell_type": "code",
      "source": [
        "train.head(10)"
      ],
      "metadata": {
        "colab": {
          "base_uri": "https://localhost:8080/",
          "height": 456
        },
        "id": "IoGLftdEvRQ2",
        "outputId": "74165975-8826-4dfa-81c8-5b4dc18837e0"
      },
      "execution_count": 14,
      "outputs": [
        {
          "output_type": "execute_result",
          "data": {
            "text/plain": [
              "   label  pixel1  pixel2  pixel3  pixel4  pixel5  pixel6  pixel7  pixel8  \\\n",
              "0      2       0       0       0       0       0       0       0       0   \n",
              "1      9       0       0       0       0       0       0       0       0   \n",
              "2      6       0       0       0       0       0       0       0       5   \n",
              "3      0       0       0       0       1       2       0       0       0   \n",
              "4      3       0       0       0       0       0       0       0       0   \n",
              "5      4       0       0       0       5       4       5       5       3   \n",
              "6      4       0       0       0       0       0       0       0       0   \n",
              "7      5       0       0       0       0       0       0       0       0   \n",
              "8      4       0       0       0       0       0       0       3       2   \n",
              "9      8       0       0       0       0       0       0       0       0   \n",
              "\n",
              "   pixel9  ...  pixel776  pixel777  pixel778  pixel779  pixel780  pixel781  \\\n",
              "0       0  ...       0.0       0.0       0.0       0.0       0.0       0.0   \n",
              "1       0  ...       0.0       0.0       0.0       0.0       0.0       0.0   \n",
              "2       0  ...       0.0       0.0      30.0      43.0       0.0       0.0   \n",
              "3       0  ...       0.0       0.0       0.0       0.0       1.0       0.0   \n",
              "4       0  ...       0.0       0.0       0.0       0.0       0.0       0.0   \n",
              "5       5  ...       8.0       7.0       4.0       3.0       7.0       5.0   \n",
              "6       0  ...       0.0       0.0       0.0       0.0       0.0       0.0   \n",
              "7       0  ...       0.0       0.0       0.0       0.0       0.0       0.0   \n",
              "8       0  ...       0.0       0.0       0.0       0.0       0.0       0.0   \n",
              "9       0  ...     214.0     166.0       0.0       0.0       0.0       0.0   \n",
              "\n",
              "   pixel782  pixel783  pixel784  Id  \n",
              "0       0.0       0.0       0.0   0  \n",
              "1       0.0       0.0       0.0   1  \n",
              "2       0.0       0.0       0.0   2  \n",
              "3       0.0       0.0       0.0   3  \n",
              "4       0.0       0.0       0.0   4  \n",
              "5       0.0       0.0       0.0   5  \n",
              "6       0.0       0.0       0.0   6  \n",
              "7       0.0       0.0       0.0   7  \n",
              "8       0.0       0.0       0.0   8  \n",
              "9       0.0       0.0       0.0   9  \n",
              "\n",
              "[10 rows x 786 columns]"
            ],
            "text/html": [
              "\n",
              "  <div id=\"df-e134bd1e-c946-4b03-8719-9dcba01daa9e\">\n",
              "    <div class=\"colab-df-container\">\n",
              "      <div>\n",
              "<style scoped>\n",
              "    .dataframe tbody tr th:only-of-type {\n",
              "        vertical-align: middle;\n",
              "    }\n",
              "\n",
              "    .dataframe tbody tr th {\n",
              "        vertical-align: top;\n",
              "    }\n",
              "\n",
              "    .dataframe thead th {\n",
              "        text-align: right;\n",
              "    }\n",
              "</style>\n",
              "<table border=\"1\" class=\"dataframe\">\n",
              "  <thead>\n",
              "    <tr style=\"text-align: right;\">\n",
              "      <th></th>\n",
              "      <th>label</th>\n",
              "      <th>pixel1</th>\n",
              "      <th>pixel2</th>\n",
              "      <th>pixel3</th>\n",
              "      <th>pixel4</th>\n",
              "      <th>pixel5</th>\n",
              "      <th>pixel6</th>\n",
              "      <th>pixel7</th>\n",
              "      <th>pixel8</th>\n",
              "      <th>pixel9</th>\n",
              "      <th>...</th>\n",
              "      <th>pixel776</th>\n",
              "      <th>pixel777</th>\n",
              "      <th>pixel778</th>\n",
              "      <th>pixel779</th>\n",
              "      <th>pixel780</th>\n",
              "      <th>pixel781</th>\n",
              "      <th>pixel782</th>\n",
              "      <th>pixel783</th>\n",
              "      <th>pixel784</th>\n",
              "      <th>Id</th>\n",
              "    </tr>\n",
              "  </thead>\n",
              "  <tbody>\n",
              "    <tr>\n",
              "      <th>0</th>\n",
              "      <td>2</td>\n",
              "      <td>0</td>\n",
              "      <td>0</td>\n",
              "      <td>0</td>\n",
              "      <td>0</td>\n",
              "      <td>0</td>\n",
              "      <td>0</td>\n",
              "      <td>0</td>\n",
              "      <td>0</td>\n",
              "      <td>0</td>\n",
              "      <td>...</td>\n",
              "      <td>0.0</td>\n",
              "      <td>0.0</td>\n",
              "      <td>0.0</td>\n",
              "      <td>0.0</td>\n",
              "      <td>0.0</td>\n",
              "      <td>0.0</td>\n",
              "      <td>0.0</td>\n",
              "      <td>0.0</td>\n",
              "      <td>0.0</td>\n",
              "      <td>0</td>\n",
              "    </tr>\n",
              "    <tr>\n",
              "      <th>1</th>\n",
              "      <td>9</td>\n",
              "      <td>0</td>\n",
              "      <td>0</td>\n",
              "      <td>0</td>\n",
              "      <td>0</td>\n",
              "      <td>0</td>\n",
              "      <td>0</td>\n",
              "      <td>0</td>\n",
              "      <td>0</td>\n",
              "      <td>0</td>\n",
              "      <td>...</td>\n",
              "      <td>0.0</td>\n",
              "      <td>0.0</td>\n",
              "      <td>0.0</td>\n",
              "      <td>0.0</td>\n",
              "      <td>0.0</td>\n",
              "      <td>0.0</td>\n",
              "      <td>0.0</td>\n",
              "      <td>0.0</td>\n",
              "      <td>0.0</td>\n",
              "      <td>1</td>\n",
              "    </tr>\n",
              "    <tr>\n",
              "      <th>2</th>\n",
              "      <td>6</td>\n",
              "      <td>0</td>\n",
              "      <td>0</td>\n",
              "      <td>0</td>\n",
              "      <td>0</td>\n",
              "      <td>0</td>\n",
              "      <td>0</td>\n",
              "      <td>0</td>\n",
              "      <td>5</td>\n",
              "      <td>0</td>\n",
              "      <td>...</td>\n",
              "      <td>0.0</td>\n",
              "      <td>0.0</td>\n",
              "      <td>30.0</td>\n",
              "      <td>43.0</td>\n",
              "      <td>0.0</td>\n",
              "      <td>0.0</td>\n",
              "      <td>0.0</td>\n",
              "      <td>0.0</td>\n",
              "      <td>0.0</td>\n",
              "      <td>2</td>\n",
              "    </tr>\n",
              "    <tr>\n",
              "      <th>3</th>\n",
              "      <td>0</td>\n",
              "      <td>0</td>\n",
              "      <td>0</td>\n",
              "      <td>0</td>\n",
              "      <td>1</td>\n",
              "      <td>2</td>\n",
              "      <td>0</td>\n",
              "      <td>0</td>\n",
              "      <td>0</td>\n",
              "      <td>0</td>\n",
              "      <td>...</td>\n",
              "      <td>0.0</td>\n",
              "      <td>0.0</td>\n",
              "      <td>0.0</td>\n",
              "      <td>0.0</td>\n",
              "      <td>1.0</td>\n",
              "      <td>0.0</td>\n",
              "      <td>0.0</td>\n",
              "      <td>0.0</td>\n",
              "      <td>0.0</td>\n",
              "      <td>3</td>\n",
              "    </tr>\n",
              "    <tr>\n",
              "      <th>4</th>\n",
              "      <td>3</td>\n",
              "      <td>0</td>\n",
              "      <td>0</td>\n",
              "      <td>0</td>\n",
              "      <td>0</td>\n",
              "      <td>0</td>\n",
              "      <td>0</td>\n",
              "      <td>0</td>\n",
              "      <td>0</td>\n",
              "      <td>0</td>\n",
              "      <td>...</td>\n",
              "      <td>0.0</td>\n",
              "      <td>0.0</td>\n",
              "      <td>0.0</td>\n",
              "      <td>0.0</td>\n",
              "      <td>0.0</td>\n",
              "      <td>0.0</td>\n",
              "      <td>0.0</td>\n",
              "      <td>0.0</td>\n",
              "      <td>0.0</td>\n",
              "      <td>4</td>\n",
              "    </tr>\n",
              "    <tr>\n",
              "      <th>5</th>\n",
              "      <td>4</td>\n",
              "      <td>0</td>\n",
              "      <td>0</td>\n",
              "      <td>0</td>\n",
              "      <td>5</td>\n",
              "      <td>4</td>\n",
              "      <td>5</td>\n",
              "      <td>5</td>\n",
              "      <td>3</td>\n",
              "      <td>5</td>\n",
              "      <td>...</td>\n",
              "      <td>8.0</td>\n",
              "      <td>7.0</td>\n",
              "      <td>4.0</td>\n",
              "      <td>3.0</td>\n",
              "      <td>7.0</td>\n",
              "      <td>5.0</td>\n",
              "      <td>0.0</td>\n",
              "      <td>0.0</td>\n",
              "      <td>0.0</td>\n",
              "      <td>5</td>\n",
              "    </tr>\n",
              "    <tr>\n",
              "      <th>6</th>\n",
              "      <td>4</td>\n",
              "      <td>0</td>\n",
              "      <td>0</td>\n",
              "      <td>0</td>\n",
              "      <td>0</td>\n",
              "      <td>0</td>\n",
              "      <td>0</td>\n",
              "      <td>0</td>\n",
              "      <td>0</td>\n",
              "      <td>0</td>\n",
              "      <td>...</td>\n",
              "      <td>0.0</td>\n",
              "      <td>0.0</td>\n",
              "      <td>0.0</td>\n",
              "      <td>0.0</td>\n",
              "      <td>0.0</td>\n",
              "      <td>0.0</td>\n",
              "      <td>0.0</td>\n",
              "      <td>0.0</td>\n",
              "      <td>0.0</td>\n",
              "      <td>6</td>\n",
              "    </tr>\n",
              "    <tr>\n",
              "      <th>7</th>\n",
              "      <td>5</td>\n",
              "      <td>0</td>\n",
              "      <td>0</td>\n",
              "      <td>0</td>\n",
              "      <td>0</td>\n",
              "      <td>0</td>\n",
              "      <td>0</td>\n",
              "      <td>0</td>\n",
              "      <td>0</td>\n",
              "      <td>0</td>\n",
              "      <td>...</td>\n",
              "      <td>0.0</td>\n",
              "      <td>0.0</td>\n",
              "      <td>0.0</td>\n",
              "      <td>0.0</td>\n",
              "      <td>0.0</td>\n",
              "      <td>0.0</td>\n",
              "      <td>0.0</td>\n",
              "      <td>0.0</td>\n",
              "      <td>0.0</td>\n",
              "      <td>7</td>\n",
              "    </tr>\n",
              "    <tr>\n",
              "      <th>8</th>\n",
              "      <td>4</td>\n",
              "      <td>0</td>\n",
              "      <td>0</td>\n",
              "      <td>0</td>\n",
              "      <td>0</td>\n",
              "      <td>0</td>\n",
              "      <td>0</td>\n",
              "      <td>3</td>\n",
              "      <td>2</td>\n",
              "      <td>0</td>\n",
              "      <td>...</td>\n",
              "      <td>0.0</td>\n",
              "      <td>0.0</td>\n",
              "      <td>0.0</td>\n",
              "      <td>0.0</td>\n",
              "      <td>0.0</td>\n",
              "      <td>0.0</td>\n",
              "      <td>0.0</td>\n",
              "      <td>0.0</td>\n",
              "      <td>0.0</td>\n",
              "      <td>8</td>\n",
              "    </tr>\n",
              "    <tr>\n",
              "      <th>9</th>\n",
              "      <td>8</td>\n",
              "      <td>0</td>\n",
              "      <td>0</td>\n",
              "      <td>0</td>\n",
              "      <td>0</td>\n",
              "      <td>0</td>\n",
              "      <td>0</td>\n",
              "      <td>0</td>\n",
              "      <td>0</td>\n",
              "      <td>0</td>\n",
              "      <td>...</td>\n",
              "      <td>214.0</td>\n",
              "      <td>166.0</td>\n",
              "      <td>0.0</td>\n",
              "      <td>0.0</td>\n",
              "      <td>0.0</td>\n",
              "      <td>0.0</td>\n",
              "      <td>0.0</td>\n",
              "      <td>0.0</td>\n",
              "      <td>0.0</td>\n",
              "      <td>9</td>\n",
              "    </tr>\n",
              "  </tbody>\n",
              "</table>\n",
              "<p>10 rows × 786 columns</p>\n",
              "</div>\n",
              "      <button class=\"colab-df-convert\" onclick=\"convertToInteractive('df-e134bd1e-c946-4b03-8719-9dcba01daa9e')\"\n",
              "              title=\"Convert this dataframe to an interactive table.\"\n",
              "              style=\"display:none;\">\n",
              "        \n",
              "  <svg xmlns=\"http://www.w3.org/2000/svg\" height=\"24px\"viewBox=\"0 0 24 24\"\n",
              "       width=\"24px\">\n",
              "    <path d=\"M0 0h24v24H0V0z\" fill=\"none\"/>\n",
              "    <path d=\"M18.56 5.44l.94 2.06.94-2.06 2.06-.94-2.06-.94-.94-2.06-.94 2.06-2.06.94zm-11 1L8.5 8.5l.94-2.06 2.06-.94-2.06-.94L8.5 2.5l-.94 2.06-2.06.94zm10 10l.94 2.06.94-2.06 2.06-.94-2.06-.94-.94-2.06-.94 2.06-2.06.94z\"/><path d=\"M17.41 7.96l-1.37-1.37c-.4-.4-.92-.59-1.43-.59-.52 0-1.04.2-1.43.59L10.3 9.45l-7.72 7.72c-.78.78-.78 2.05 0 2.83L4 21.41c.39.39.9.59 1.41.59.51 0 1.02-.2 1.41-.59l7.78-7.78 2.81-2.81c.8-.78.8-2.07 0-2.86zM5.41 20L4 18.59l7.72-7.72 1.47 1.35L5.41 20z\"/>\n",
              "  </svg>\n",
              "      </button>\n",
              "      \n",
              "  <style>\n",
              "    .colab-df-container {\n",
              "      display:flex;\n",
              "      flex-wrap:wrap;\n",
              "      gap: 12px;\n",
              "    }\n",
              "\n",
              "    .colab-df-convert {\n",
              "      background-color: #E8F0FE;\n",
              "      border: none;\n",
              "      border-radius: 50%;\n",
              "      cursor: pointer;\n",
              "      display: none;\n",
              "      fill: #1967D2;\n",
              "      height: 32px;\n",
              "      padding: 0 0 0 0;\n",
              "      width: 32px;\n",
              "    }\n",
              "\n",
              "    .colab-df-convert:hover {\n",
              "      background-color: #E2EBFA;\n",
              "      box-shadow: 0px 1px 2px rgba(60, 64, 67, 0.3), 0px 1px 3px 1px rgba(60, 64, 67, 0.15);\n",
              "      fill: #174EA6;\n",
              "    }\n",
              "\n",
              "    [theme=dark] .colab-df-convert {\n",
              "      background-color: #3B4455;\n",
              "      fill: #D2E3FC;\n",
              "    }\n",
              "\n",
              "    [theme=dark] .colab-df-convert:hover {\n",
              "      background-color: #434B5C;\n",
              "      box-shadow: 0px 1px 3px 1px rgba(0, 0, 0, 0.15);\n",
              "      filter: drop-shadow(0px 1px 2px rgba(0, 0, 0, 0.3));\n",
              "      fill: #FFFFFF;\n",
              "    }\n",
              "  </style>\n",
              "\n",
              "      <script>\n",
              "        const buttonEl =\n",
              "          document.querySelector('#df-e134bd1e-c946-4b03-8719-9dcba01daa9e button.colab-df-convert');\n",
              "        buttonEl.style.display =\n",
              "          google.colab.kernel.accessAllowed ? 'block' : 'none';\n",
              "\n",
              "        async function convertToInteractive(key) {\n",
              "          const element = document.querySelector('#df-e134bd1e-c946-4b03-8719-9dcba01daa9e');\n",
              "          const dataTable =\n",
              "            await google.colab.kernel.invokeFunction('convertToInteractive',\n",
              "                                                     [key], {});\n",
              "          if (!dataTable) return;\n",
              "\n",
              "          const docLinkHtml = 'Like what you see? Visit the ' +\n",
              "            '<a target=\"_blank\" href=https://colab.research.google.com/notebooks/data_table.ipynb>data table notebook</a>'\n",
              "            + ' to learn more about interactive tables.';\n",
              "          element.innerHTML = '';\n",
              "          dataTable['output_type'] = 'display_data';\n",
              "          await google.colab.output.renderOutput(dataTable, element);\n",
              "          const docLink = document.createElement('div');\n",
              "          docLink.innerHTML = docLinkHtml;\n",
              "          element.appendChild(docLink);\n",
              "        }\n",
              "      </script>\n",
              "    </div>\n",
              "  </div>\n",
              "  "
            ]
          },
          "metadata": {},
          "execution_count": 14
        }
      ]
    },
    {
      "cell_type": "code",
      "source": [
        "test.head(10)"
      ],
      "metadata": {
        "colab": {
          "base_uri": "https://localhost:8080/",
          "height": 456
        },
        "id": "Enyhkz0MvUz7",
        "outputId": "5a7de0b0-2e36-4a6d-e860-943eae377a59"
      },
      "execution_count": 16,
      "outputs": [
        {
          "output_type": "execute_result",
          "data": {
            "text/plain": [
              "   pixel1  pixel2  pixel3  pixel4  pixel5  pixel6  pixel7  pixel8  pixel9  \\\n",
              "0       0       0       0       0       0       0       0       9       8   \n",
              "1       0       0       0       0       0       0       0       0       0   \n",
              "2       0       0       0       0       0       0      14      53      99   \n",
              "3       0       0       0       0       0       0       0       0       0   \n",
              "4       0       0       0       0       0       0       0       0       0   \n",
              "5       0       0       0       0       0      44     105      44      10   \n",
              "6       0       0       0       0       0       0       0       0       0   \n",
              "7       0       0       0       0       0       0       0       1       0   \n",
              "8       0       0       0       0       0       0       0       0       0   \n",
              "9       0       0       0       0       0       0       0       0       0   \n",
              "\n",
              "   pixel10  ...  pixel776  pixel777  pixel778  pixel779  pixel780  pixel781  \\\n",
              "0        0  ...        87        56         0         0         0         0   \n",
              "1        0  ...         0         0         0         0         0         0   \n",
              "2       17  ...         0         0         0        63        53        31   \n",
              "3      161  ...       126       140         0       133       224       222   \n",
              "4        0  ...         0         0         0         0         0         0   \n",
              "5        0  ...        64        30         0         0         0         0   \n",
              "6        0  ...         0         0         0         0         0         0   \n",
              "7        0  ...       136       155        31         0         1         0   \n",
              "8        0  ...         0         0         0         0         0         0   \n",
              "9        0  ...        70        28         0         2         0         0   \n",
              "\n",
              "   pixel782  pixel783  pixel784  Id  \n",
              "0         0         0         0   0  \n",
              "1         0         0         0   1  \n",
              "2         0         0         0   2  \n",
              "3        56         0         0   3  \n",
              "4         0         0         0   4  \n",
              "5         0         0         0   5  \n",
              "6         0         0         0   6  \n",
              "7         0         0         0   7  \n",
              "8         0         0         0   8  \n",
              "9         0         0         0   9  \n",
              "\n",
              "[10 rows x 785 columns]"
            ],
            "text/html": [
              "\n",
              "  <div id=\"df-b9b3ee53-718f-4953-aeb2-849d13f7b508\">\n",
              "    <div class=\"colab-df-container\">\n",
              "      <div>\n",
              "<style scoped>\n",
              "    .dataframe tbody tr th:only-of-type {\n",
              "        vertical-align: middle;\n",
              "    }\n",
              "\n",
              "    .dataframe tbody tr th {\n",
              "        vertical-align: top;\n",
              "    }\n",
              "\n",
              "    .dataframe thead th {\n",
              "        text-align: right;\n",
              "    }\n",
              "</style>\n",
              "<table border=\"1\" class=\"dataframe\">\n",
              "  <thead>\n",
              "    <tr style=\"text-align: right;\">\n",
              "      <th></th>\n",
              "      <th>pixel1</th>\n",
              "      <th>pixel2</th>\n",
              "      <th>pixel3</th>\n",
              "      <th>pixel4</th>\n",
              "      <th>pixel5</th>\n",
              "      <th>pixel6</th>\n",
              "      <th>pixel7</th>\n",
              "      <th>pixel8</th>\n",
              "      <th>pixel9</th>\n",
              "      <th>pixel10</th>\n",
              "      <th>...</th>\n",
              "      <th>pixel776</th>\n",
              "      <th>pixel777</th>\n",
              "      <th>pixel778</th>\n",
              "      <th>pixel779</th>\n",
              "      <th>pixel780</th>\n",
              "      <th>pixel781</th>\n",
              "      <th>pixel782</th>\n",
              "      <th>pixel783</th>\n",
              "      <th>pixel784</th>\n",
              "      <th>Id</th>\n",
              "    </tr>\n",
              "  </thead>\n",
              "  <tbody>\n",
              "    <tr>\n",
              "      <th>0</th>\n",
              "      <td>0</td>\n",
              "      <td>0</td>\n",
              "      <td>0</td>\n",
              "      <td>0</td>\n",
              "      <td>0</td>\n",
              "      <td>0</td>\n",
              "      <td>0</td>\n",
              "      <td>9</td>\n",
              "      <td>8</td>\n",
              "      <td>0</td>\n",
              "      <td>...</td>\n",
              "      <td>87</td>\n",
              "      <td>56</td>\n",
              "      <td>0</td>\n",
              "      <td>0</td>\n",
              "      <td>0</td>\n",
              "      <td>0</td>\n",
              "      <td>0</td>\n",
              "      <td>0</td>\n",
              "      <td>0</td>\n",
              "      <td>0</td>\n",
              "    </tr>\n",
              "    <tr>\n",
              "      <th>1</th>\n",
              "      <td>0</td>\n",
              "      <td>0</td>\n",
              "      <td>0</td>\n",
              "      <td>0</td>\n",
              "      <td>0</td>\n",
              "      <td>0</td>\n",
              "      <td>0</td>\n",
              "      <td>0</td>\n",
              "      <td>0</td>\n",
              "      <td>0</td>\n",
              "      <td>...</td>\n",
              "      <td>0</td>\n",
              "      <td>0</td>\n",
              "      <td>0</td>\n",
              "      <td>0</td>\n",
              "      <td>0</td>\n",
              "      <td>0</td>\n",
              "      <td>0</td>\n",
              "      <td>0</td>\n",
              "      <td>0</td>\n",
              "      <td>1</td>\n",
              "    </tr>\n",
              "    <tr>\n",
              "      <th>2</th>\n",
              "      <td>0</td>\n",
              "      <td>0</td>\n",
              "      <td>0</td>\n",
              "      <td>0</td>\n",
              "      <td>0</td>\n",
              "      <td>0</td>\n",
              "      <td>14</td>\n",
              "      <td>53</td>\n",
              "      <td>99</td>\n",
              "      <td>17</td>\n",
              "      <td>...</td>\n",
              "      <td>0</td>\n",
              "      <td>0</td>\n",
              "      <td>0</td>\n",
              "      <td>63</td>\n",
              "      <td>53</td>\n",
              "      <td>31</td>\n",
              "      <td>0</td>\n",
              "      <td>0</td>\n",
              "      <td>0</td>\n",
              "      <td>2</td>\n",
              "    </tr>\n",
              "    <tr>\n",
              "      <th>3</th>\n",
              "      <td>0</td>\n",
              "      <td>0</td>\n",
              "      <td>0</td>\n",
              "      <td>0</td>\n",
              "      <td>0</td>\n",
              "      <td>0</td>\n",
              "      <td>0</td>\n",
              "      <td>0</td>\n",
              "      <td>0</td>\n",
              "      <td>161</td>\n",
              "      <td>...</td>\n",
              "      <td>126</td>\n",
              "      <td>140</td>\n",
              "      <td>0</td>\n",
              "      <td>133</td>\n",
              "      <td>224</td>\n",
              "      <td>222</td>\n",
              "      <td>56</td>\n",
              "      <td>0</td>\n",
              "      <td>0</td>\n",
              "      <td>3</td>\n",
              "    </tr>\n",
              "    <tr>\n",
              "      <th>4</th>\n",
              "      <td>0</td>\n",
              "      <td>0</td>\n",
              "      <td>0</td>\n",
              "      <td>0</td>\n",
              "      <td>0</td>\n",
              "      <td>0</td>\n",
              "      <td>0</td>\n",
              "      <td>0</td>\n",
              "      <td>0</td>\n",
              "      <td>0</td>\n",
              "      <td>...</td>\n",
              "      <td>0</td>\n",
              "      <td>0</td>\n",
              "      <td>0</td>\n",
              "      <td>0</td>\n",
              "      <td>0</td>\n",
              "      <td>0</td>\n",
              "      <td>0</td>\n",
              "      <td>0</td>\n",
              "      <td>0</td>\n",
              "      <td>4</td>\n",
              "    </tr>\n",
              "    <tr>\n",
              "      <th>5</th>\n",
              "      <td>0</td>\n",
              "      <td>0</td>\n",
              "      <td>0</td>\n",
              "      <td>0</td>\n",
              "      <td>0</td>\n",
              "      <td>44</td>\n",
              "      <td>105</td>\n",
              "      <td>44</td>\n",
              "      <td>10</td>\n",
              "      <td>0</td>\n",
              "      <td>...</td>\n",
              "      <td>64</td>\n",
              "      <td>30</td>\n",
              "      <td>0</td>\n",
              "      <td>0</td>\n",
              "      <td>0</td>\n",
              "      <td>0</td>\n",
              "      <td>0</td>\n",
              "      <td>0</td>\n",
              "      <td>0</td>\n",
              "      <td>5</td>\n",
              "    </tr>\n",
              "    <tr>\n",
              "      <th>6</th>\n",
              "      <td>0</td>\n",
              "      <td>0</td>\n",
              "      <td>0</td>\n",
              "      <td>0</td>\n",
              "      <td>0</td>\n",
              "      <td>0</td>\n",
              "      <td>0</td>\n",
              "      <td>0</td>\n",
              "      <td>0</td>\n",
              "      <td>0</td>\n",
              "      <td>...</td>\n",
              "      <td>0</td>\n",
              "      <td>0</td>\n",
              "      <td>0</td>\n",
              "      <td>0</td>\n",
              "      <td>0</td>\n",
              "      <td>0</td>\n",
              "      <td>0</td>\n",
              "      <td>0</td>\n",
              "      <td>0</td>\n",
              "      <td>6</td>\n",
              "    </tr>\n",
              "    <tr>\n",
              "      <th>7</th>\n",
              "      <td>0</td>\n",
              "      <td>0</td>\n",
              "      <td>0</td>\n",
              "      <td>0</td>\n",
              "      <td>0</td>\n",
              "      <td>0</td>\n",
              "      <td>0</td>\n",
              "      <td>1</td>\n",
              "      <td>0</td>\n",
              "      <td>0</td>\n",
              "      <td>...</td>\n",
              "      <td>136</td>\n",
              "      <td>155</td>\n",
              "      <td>31</td>\n",
              "      <td>0</td>\n",
              "      <td>1</td>\n",
              "      <td>0</td>\n",
              "      <td>0</td>\n",
              "      <td>0</td>\n",
              "      <td>0</td>\n",
              "      <td>7</td>\n",
              "    </tr>\n",
              "    <tr>\n",
              "      <th>8</th>\n",
              "      <td>0</td>\n",
              "      <td>0</td>\n",
              "      <td>0</td>\n",
              "      <td>0</td>\n",
              "      <td>0</td>\n",
              "      <td>0</td>\n",
              "      <td>0</td>\n",
              "      <td>0</td>\n",
              "      <td>0</td>\n",
              "      <td>0</td>\n",
              "      <td>...</td>\n",
              "      <td>0</td>\n",
              "      <td>0</td>\n",
              "      <td>0</td>\n",
              "      <td>0</td>\n",
              "      <td>0</td>\n",
              "      <td>0</td>\n",
              "      <td>0</td>\n",
              "      <td>0</td>\n",
              "      <td>0</td>\n",
              "      <td>8</td>\n",
              "    </tr>\n",
              "    <tr>\n",
              "      <th>9</th>\n",
              "      <td>0</td>\n",
              "      <td>0</td>\n",
              "      <td>0</td>\n",
              "      <td>0</td>\n",
              "      <td>0</td>\n",
              "      <td>0</td>\n",
              "      <td>0</td>\n",
              "      <td>0</td>\n",
              "      <td>0</td>\n",
              "      <td>0</td>\n",
              "      <td>...</td>\n",
              "      <td>70</td>\n",
              "      <td>28</td>\n",
              "      <td>0</td>\n",
              "      <td>2</td>\n",
              "      <td>0</td>\n",
              "      <td>0</td>\n",
              "      <td>0</td>\n",
              "      <td>0</td>\n",
              "      <td>0</td>\n",
              "      <td>9</td>\n",
              "    </tr>\n",
              "  </tbody>\n",
              "</table>\n",
              "<p>10 rows × 785 columns</p>\n",
              "</div>\n",
              "      <button class=\"colab-df-convert\" onclick=\"convertToInteractive('df-b9b3ee53-718f-4953-aeb2-849d13f7b508')\"\n",
              "              title=\"Convert this dataframe to an interactive table.\"\n",
              "              style=\"display:none;\">\n",
              "        \n",
              "  <svg xmlns=\"http://www.w3.org/2000/svg\" height=\"24px\"viewBox=\"0 0 24 24\"\n",
              "       width=\"24px\">\n",
              "    <path d=\"M0 0h24v24H0V0z\" fill=\"none\"/>\n",
              "    <path d=\"M18.56 5.44l.94 2.06.94-2.06 2.06-.94-2.06-.94-.94-2.06-.94 2.06-2.06.94zm-11 1L8.5 8.5l.94-2.06 2.06-.94-2.06-.94L8.5 2.5l-.94 2.06-2.06.94zm10 10l.94 2.06.94-2.06 2.06-.94-2.06-.94-.94-2.06-.94 2.06-2.06.94z\"/><path d=\"M17.41 7.96l-1.37-1.37c-.4-.4-.92-.59-1.43-.59-.52 0-1.04.2-1.43.59L10.3 9.45l-7.72 7.72c-.78.78-.78 2.05 0 2.83L4 21.41c.39.39.9.59 1.41.59.51 0 1.02-.2 1.41-.59l7.78-7.78 2.81-2.81c.8-.78.8-2.07 0-2.86zM5.41 20L4 18.59l7.72-7.72 1.47 1.35L5.41 20z\"/>\n",
              "  </svg>\n",
              "      </button>\n",
              "      \n",
              "  <style>\n",
              "    .colab-df-container {\n",
              "      display:flex;\n",
              "      flex-wrap:wrap;\n",
              "      gap: 12px;\n",
              "    }\n",
              "\n",
              "    .colab-df-convert {\n",
              "      background-color: #E8F0FE;\n",
              "      border: none;\n",
              "      border-radius: 50%;\n",
              "      cursor: pointer;\n",
              "      display: none;\n",
              "      fill: #1967D2;\n",
              "      height: 32px;\n",
              "      padding: 0 0 0 0;\n",
              "      width: 32px;\n",
              "    }\n",
              "\n",
              "    .colab-df-convert:hover {\n",
              "      background-color: #E2EBFA;\n",
              "      box-shadow: 0px 1px 2px rgba(60, 64, 67, 0.3), 0px 1px 3px 1px rgba(60, 64, 67, 0.15);\n",
              "      fill: #174EA6;\n",
              "    }\n",
              "\n",
              "    [theme=dark] .colab-df-convert {\n",
              "      background-color: #3B4455;\n",
              "      fill: #D2E3FC;\n",
              "    }\n",
              "\n",
              "    [theme=dark] .colab-df-convert:hover {\n",
              "      background-color: #434B5C;\n",
              "      box-shadow: 0px 1px 3px 1px rgba(0, 0, 0, 0.15);\n",
              "      filter: drop-shadow(0px 1px 2px rgba(0, 0, 0, 0.3));\n",
              "      fill: #FFFFFF;\n",
              "    }\n",
              "  </style>\n",
              "\n",
              "      <script>\n",
              "        const buttonEl =\n",
              "          document.querySelector('#df-b9b3ee53-718f-4953-aeb2-849d13f7b508 button.colab-df-convert');\n",
              "        buttonEl.style.display =\n",
              "          google.colab.kernel.accessAllowed ? 'block' : 'none';\n",
              "\n",
              "        async function convertToInteractive(key) {\n",
              "          const element = document.querySelector('#df-b9b3ee53-718f-4953-aeb2-849d13f7b508');\n",
              "          const dataTable =\n",
              "            await google.colab.kernel.invokeFunction('convertToInteractive',\n",
              "                                                     [key], {});\n",
              "          if (!dataTable) return;\n",
              "\n",
              "          const docLinkHtml = 'Like what you see? Visit the ' +\n",
              "            '<a target=\"_blank\" href=https://colab.research.google.com/notebooks/data_table.ipynb>data table notebook</a>'\n",
              "            + ' to learn more about interactive tables.';\n",
              "          element.innerHTML = '';\n",
              "          dataTable['output_type'] = 'display_data';\n",
              "          await google.colab.output.renderOutput(dataTable, element);\n",
              "          const docLink = document.createElement('div');\n",
              "          docLink.innerHTML = docLinkHtml;\n",
              "          element.appendChild(docLink);\n",
              "        }\n",
              "      </script>\n",
              "    </div>\n",
              "  </div>\n",
              "  "
            ]
          },
          "metadata": {},
          "execution_count": 16
        }
      ]
    },
    {
      "cell_type": "code",
      "source": [
        "y=train['label'].to_numpy()"
      ],
      "metadata": {
        "id": "KHozI3Eovebr"
      },
      "execution_count": 17,
      "outputs": []
    },
    {
      "cell_type": "code",
      "source": [
        "X = train.iloc[:, 1:785].to_numpy()"
      ],
      "metadata": {
        "id": "Yf_nsIZSvf27"
      },
      "execution_count": 18,
      "outputs": []
    },
    {
      "cell_type": "code",
      "source": [
        "train_x, test_x, train_y, test_y = train_test_split(X, y, test_size=0.2, random_state=15, shuffle=True, stratify=y)"
      ],
      "metadata": {
        "id": "i_-hkSy0vfwz"
      },
      "execution_count": 19,
      "outputs": []
    },
    {
      "cell_type": "code",
      "source": [
        "val = test.iloc[:, 0:784].to_numpy()"
      ],
      "metadata": {
        "id": "83Q3Mw3Wvjg9"
      },
      "execution_count": 20,
      "outputs": []
    },
    {
      "cell_type": "code",
      "source": [
        "# Различные константы\n",
        "IMG_WIDTH, IMG_HEIGHT = 28, 28\n",
        "BATCH_SIZE = 250\n",
        "EPOCHS = 50\n",
        "NUM_CLASSES = 10\n",
        "VALIDATION_SPLIT = 0.2\n",
        "VERBOSITY = 1"
      ],
      "metadata": {
        "id": "6g2T1xHXvk1k"
      },
      "execution_count": 21,
      "outputs": []
    },
    {
      "cell_type": "code",
      "source": [
        "# Подготавливаем данные.\n",
        "train_x = train_x.reshape(train_x.shape[0], IMG_WIDTH, IMG_HEIGHT, 1)\n",
        "test_x = test_x.reshape(test_x.shape[0], IMG_WIDTH, IMG_HEIGHT, 1)\n",
        "val_x =val.reshape(val.shape[0],IMG_WIDTH, IMG_HEIGHT, 1)"
      ],
      "metadata": {
        "id": "7OtV6xuZvnQl"
      },
      "execution_count": 22,
      "outputs": []
    },
    {
      "cell_type": "code",
      "source": [
        "train_x.shape"
      ],
      "metadata": {
        "colab": {
          "base_uri": "https://localhost:8080/"
        },
        "id": "G2bdLLgmvpW0",
        "outputId": "a9a560cd-f53a-452c-f6e8-986e62bd5d6d"
      },
      "execution_count": 23,
      "outputs": [
        {
          "output_type": "execute_result",
          "data": {
            "text/plain": [
              "(13632, 28, 28, 1)"
            ]
          },
          "metadata": {},
          "execution_count": 23
        }
      ]
    },
    {
      "cell_type": "code",
      "source": [
        "test_x.shape"
      ],
      "metadata": {
        "colab": {
          "base_uri": "https://localhost:8080/"
        },
        "id": "U3rYZaO7vsfb",
        "outputId": "675694b7-c445-4f56-8671-b6d0361dbb91"
      },
      "execution_count": 24,
      "outputs": [
        {
          "output_type": "execute_result",
          "data": {
            "text/plain": [
              "(3408, 28, 28, 1)"
            ]
          },
          "metadata": {},
          "execution_count": 24
        }
      ]
    },
    {
      "cell_type": "code",
      "source": [
        "val_x.shape"
      ],
      "metadata": {
        "colab": {
          "base_uri": "https://localhost:8080/"
        },
        "id": "tpsQlRsVvtyF",
        "outputId": "c65d2969-c0e2-4a2c-b6c3-4a3130f33190"
      },
      "execution_count": 25,
      "outputs": [
        {
          "output_type": "execute_result",
          "data": {
            "text/plain": [
              "(10000, 28, 28, 1)"
            ]
          },
          "metadata": {},
          "execution_count": 25
        }
      ]
    },
    {
      "cell_type": "code",
      "source": [
        "input_shape = (IMG_WIDTH, IMG_HEIGHT, 1)"
      ],
      "metadata": {
        "id": "Hj05NYUCvv4c"
      },
      "execution_count": 26,
      "outputs": []
    },
    {
      "cell_type": "code",
      "source": [
        "input_shape"
      ],
      "metadata": {
        "colab": {
          "base_uri": "https://localhost:8080/"
        },
        "id": "0V_7VcUAvxTq",
        "outputId": "7e20464c-8389-42e3-b262-1a02e798c5b8"
      },
      "execution_count": 27,
      "outputs": [
        {
          "output_type": "execute_result",
          "data": {
            "text/plain": [
              "(28, 28, 1)"
            ]
          },
          "metadata": {},
          "execution_count": 27
        }
      ]
    },
    {
      "cell_type": "code",
      "source": [
        "# Нормализуем данные (0-255 -> 0-1.0).\n",
        "train_x = train_x.astype('float32')\n",
        "test_x = test_x.astype('float32')\n",
        "val_x = val_x.astype('float32')\n",
        "train_x = train_x / 255\n",
        "test_x = test_x / 255\n",
        "val_x = val_x / 255"
      ],
      "metadata": {
        "id": "o98EdDaDvyo0"
      },
      "execution_count": 28,
      "outputs": []
    },
    {
      "cell_type": "code",
      "source": [
        "target_train = tf.keras.utils.to_categorical(train_y, NUM_CLASSES)"
      ],
      "metadata": {
        "id": "JKXKqOotv1OU"
      },
      "execution_count": 29,
      "outputs": []
    },
    {
      "cell_type": "code",
      "source": [
        "target_test = tf.keras.utils.to_categorical(test_y, NUM_CLASSES)"
      ],
      "metadata": {
        "id": "1VJLndfGv2jT"
      },
      "execution_count": 30,
      "outputs": []
    },
    {
      "cell_type": "code",
      "source": [
        "plt.imshow(val_x[30])\n",
        "print(val_x[0].shape)"
      ],
      "metadata": {
        "colab": {
          "base_uri": "https://localhost:8080/",
          "height": 447
        },
        "id": "ZMkb9EP6v4Yi",
        "outputId": "5fd8473d-ca78-455e-ff26-968494b878aa"
      },
      "execution_count": 31,
      "outputs": [
        {
          "output_type": "stream",
          "name": "stdout",
          "text": [
            "(28, 28, 1)\n"
          ]
        },
        {
          "output_type": "display_data",
          "data": {
            "text/plain": [
              "<Figure size 640x480 with 1 Axes>"
            ],
            "image/png": "[encoded data removed]"
          },
          "metadata": {}
        }
      ]
    },
    {
      "cell_type": "code",
      "source": [
        "\n",
        "plt.imshow(train_x[2000].reshape(28, 28))\n",
        "     "
      ],
      "metadata": {
        "colab": {
          "base_uri": "https://localhost:8080/",
          "height": 447
        },
        "id": "pJ9f2qNVv60z",
        "outputId": "fcf661a7-a79f-4eeb-900f-58204150c7b2"
      },
      "execution_count": 32,
      "outputs": [
        {
          "output_type": "execute_result",
          "data": {
            "text/plain": [
              "<matplotlib.image.AxesImage at 0x7f7d6faafc40>"
            ]
          },
          "metadata": {},
          "execution_count": 32
        },
        {
          "output_type": "display_data",
          "data": {
            "text/plain": [
              "<Figure size 640x480 with 1 Axes>"
            ],
            "image/png": "[encoded data removed]"
          },
          "metadata": {}
        }
      ]
    },
    {
      "cell_type": "code",
      "source": [
        "\n",
        "class_names = ['T-shirt/top', 'Trouser', 'Pullover', 'Dress', 'Coat',\n",
        "               'Sandal', 'Shirt', 'Sneaker', 'Bag', 'Ankle boot']"
      ],
      "metadata": {
        "id": "586h0Ovmv9OO"
      },
      "execution_count": 33,
      "outputs": []
    },
    {
      "cell_type": "markdown",
      "source": [
        "# Обучение"
      ],
      "metadata": {
        "id": "cZtXTByCv_tY"
      }
    },
    {
      "cell_type": "markdown",
      "source": [
        "https://www.tensorflow.org/tutorials/keras/classification?hl=ru"
      ],
      "metadata": {
        "id": "pnH-DutbwCFJ"
      }
    },
    {
      "cell_type": "code",
      "source": [
        "#создаём модель.\n",
        "model = Sequential()\n",
        "model.add(Conv2D(6, kernel_size=(5, 5), strides=(1,1), activation='relu', padding='same', input_shape=input_shape))\n",
        "model.add(MaxPooling2D(pool_size=(2, 2)))\n",
        "model.add(Conv2D(10, kernel_size=(5, 5), strides=(1,1), activation='relu', padding='same'))\n",
        "model.add(Flatten())\n",
        "model.add(Dense(256, activation='relu'))\n",
        "model.add(Dense(NUM_CLASSES, activation='softmax'))"
      ],
      "metadata": {
        "id": "Y9MMoCS2wEid"
      },
      "execution_count": 34,
      "outputs": []
    },
    {
      "cell_type": "code",
      "source": [
        "\n",
        "# И обучаем её.\n",
        "model.compile(\n",
        "    loss=tf.keras.losses.categorical_crossentropy,\n",
        "    optimizer=tf.keras.optimizers.Adam(),\n",
        "    metrics=['accuracy']\n",
        ")"
      ],
      "metadata": {
        "id": "owYfO5xqwGRS"
      },
      "execution_count": 35,
      "outputs": []
    },
    {
      "cell_type": "code",
      "source": [
        "model_history = model.fit(\n",
        "    train_x,\n",
        "    target_train,\n",
        "    batch_size=BATCH_SIZE,\n",
        "    epochs=EPOCHS,\n",
        "    verbose=VERBOSITY,\n",
        "    validation_split=VALIDATION_SPLIT\n",
        ")"
      ],
      "metadata": {
        "colab": {
          "base_uri": "https://localhost:8080/"
        },
        "id": "1UQ5NT-KwIG0",
        "outputId": "61809333-356c-4fc1-9555-a00def751a49"
      },
      "execution_count": 36,
      "outputs": [
        {
          "output_type": "stream",
          "name": "stdout",
          "text": [
            "Epoch 1/50\n",
            "44/44 [==============================] - 22s 431ms/step - loss: 0.9459 - accuracy: 0.6704 - val_loss: 0.5736 - val_accuracy: 0.7873\n",
            "Epoch 2/50\n",
            "44/44 [==============================] - 9s 195ms/step - loss: 0.5385 - accuracy: 0.8017 - val_loss: 0.4901 - val_accuracy: 0.8177\n",
            "Epoch 3/50\n",
            "44/44 [==============================] - 10s 235ms/step - loss: 0.4660 - accuracy: 0.8298 - val_loss: 0.4475 - val_accuracy: 0.8394\n",
            "Epoch 4/50\n",
            "44/44 [==============================] - 10s 223ms/step - loss: 0.4123 - accuracy: 0.8518 - val_loss: 0.4374 - val_accuracy: 0.8420\n",
            "Epoch 5/50\n",
            "44/44 [==============================] - 8s 186ms/step - loss: 0.3940 - accuracy: 0.8567 - val_loss: 0.3877 - val_accuracy: 0.8629\n",
            "Epoch 6/50\n",
            "44/44 [==============================] - 10s 235ms/step - loss: 0.3763 - accuracy: 0.8641 - val_loss: 0.3721 - val_accuracy: 0.8669\n",
            "Epoch 7/50\n",
            "44/44 [==============================] - 10s 226ms/step - loss: 0.3587 - accuracy: 0.8710 - val_loss: 0.3569 - val_accuracy: 0.8717\n",
            "Epoch 8/50\n",
            "44/44 [==============================] - 9s 216ms/step - loss: 0.3332 - accuracy: 0.8806 - val_loss: 0.3546 - val_accuracy: 0.8757\n",
            "Epoch 9/50\n",
            "44/44 [==============================] - 8s 182ms/step - loss: 0.3148 - accuracy: 0.8874 - val_loss: 0.3456 - val_accuracy: 0.8779\n",
            "Epoch 10/50\n",
            "44/44 [==============================] - 9s 214ms/step - loss: 0.3071 - accuracy: 0.8871 - val_loss: 0.3332 - val_accuracy: 0.8819\n",
            "Epoch 11/50\n",
            "44/44 [==============================] - 10s 223ms/step - loss: 0.2874 - accuracy: 0.8967 - val_loss: 0.3396 - val_accuracy: 0.8827\n",
            "Epoch 12/50\n",
            "44/44 [==============================] - 8s 191ms/step - loss: 0.2828 - accuracy: 0.8967 - val_loss: 0.3391 - val_accuracy: 0.8852\n",
            "Epoch 13/50\n",
            "44/44 [==============================] - 9s 212ms/step - loss: 0.2769 - accuracy: 0.8983 - val_loss: 0.3378 - val_accuracy: 0.8783\n",
            "Epoch 14/50\n",
            "44/44 [==============================] - 9s 210ms/step - loss: 0.2618 - accuracy: 0.9031 - val_loss: 0.3197 - val_accuracy: 0.8860\n",
            "Epoch 15/50\n",
            "44/44 [==============================] - 10s 218ms/step - loss: 0.2455 - accuracy: 0.9118 - val_loss: 0.3148 - val_accuracy: 0.8944\n",
            "Epoch 16/50\n",
            "44/44 [==============================] - 10s 215ms/step - loss: 0.2380 - accuracy: 0.9117 - val_loss: 0.3205 - val_accuracy: 0.8863\n",
            "Epoch 17/50\n",
            "44/44 [==============================] - 9s 204ms/step - loss: 0.2281 - accuracy: 0.9161 - val_loss: 0.3534 - val_accuracy: 0.8786\n",
            "Epoch 18/50\n",
            "44/44 [==============================] - 9s 198ms/step - loss: 0.2294 - accuracy: 0.9169 - val_loss: 0.3335 - val_accuracy: 0.8907\n",
            "Epoch 19/50\n",
            "44/44 [==============================] - 8s 175ms/step - loss: 0.2060 - accuracy: 0.9261 - val_loss: 0.3127 - val_accuracy: 0.8922\n",
            "Epoch 20/50\n",
            "44/44 [==============================] - 9s 205ms/step - loss: 0.2075 - accuracy: 0.9235 - val_loss: 0.3149 - val_accuracy: 0.8893\n",
            "Epoch 21/50\n",
            "44/44 [==============================] - 8s 186ms/step - loss: 0.1889 - accuracy: 0.9322 - val_loss: 0.3193 - val_accuracy: 0.8860\n",
            "Epoch 22/50\n",
            "44/44 [==============================] - 8s 187ms/step - loss: 0.1882 - accuracy: 0.9312 - val_loss: 0.3226 - val_accuracy: 0.8863\n",
            "Epoch 23/50\n",
            "44/44 [==============================] - 9s 204ms/step - loss: 0.1784 - accuracy: 0.9356 - val_loss: 0.3082 - val_accuracy: 0.8995\n",
            "Epoch 24/50\n",
            "44/44 [==============================] - 7s 170ms/step - loss: 0.1560 - accuracy: 0.9444 - val_loss: 0.3331 - val_accuracy: 0.8926\n",
            "Epoch 25/50\n",
            "44/44 [==============================] - 9s 202ms/step - loss: 0.1513 - accuracy: 0.9470 - val_loss: 0.3211 - val_accuracy: 0.8944\n",
            "Epoch 26/50\n",
            "44/44 [==============================] - 9s 205ms/step - loss: 0.1547 - accuracy: 0.9447 - val_loss: 0.3248 - val_accuracy: 0.8896\n",
            "Epoch 27/50\n",
            "44/44 [==============================] - 8s 172ms/step - loss: 0.1463 - accuracy: 0.9480 - val_loss: 0.3241 - val_accuracy: 0.8940\n",
            "Epoch 28/50\n",
            "44/44 [==============================] - 9s 203ms/step - loss: 0.1373 - accuracy: 0.9516 - val_loss: 0.3181 - val_accuracy: 0.8933\n",
            "Epoch 29/50\n",
            "44/44 [==============================] - 9s 216ms/step - loss: 0.1272 - accuracy: 0.9577 - val_loss: 0.3329 - val_accuracy: 0.8926\n",
            "Epoch 30/50\n",
            "44/44 [==============================] - 8s 172ms/step - loss: 0.1169 - accuracy: 0.9601 - val_loss: 0.3301 - val_accuracy: 0.8959\n",
            "Epoch 31/50\n",
            "44/44 [==============================] - 9s 206ms/step - loss: 0.1081 - accuracy: 0.9645 - val_loss: 0.3572 - val_accuracy: 0.8918\n",
            "Epoch 32/50\n",
            "44/44 [==============================] - 9s 211ms/step - loss: 0.1020 - accuracy: 0.9663 - val_loss: 0.3508 - val_accuracy: 0.8955\n",
            "Epoch 33/50\n",
            "44/44 [==============================] - 7s 170ms/step - loss: 0.1049 - accuracy: 0.9633 - val_loss: 0.3824 - val_accuracy: 0.8889\n",
            "Epoch 34/50\n",
            "44/44 [==============================] - 9s 206ms/step - loss: 0.0910 - accuracy: 0.9687 - val_loss: 0.3501 - val_accuracy: 0.8962\n",
            "Epoch 35/50\n",
            "44/44 [==============================] - 9s 197ms/step - loss: 0.0818 - accuracy: 0.9741 - val_loss: 0.3648 - val_accuracy: 0.8922\n",
            "Epoch 36/50\n",
            "44/44 [==============================] - 8s 173ms/step - loss: 0.0757 - accuracy: 0.9753 - val_loss: 0.3911 - val_accuracy: 0.8885\n",
            "Epoch 37/50\n",
            "44/44 [==============================] - 9s 202ms/step - loss: 0.0821 - accuracy: 0.9726 - val_loss: 0.3804 - val_accuracy: 0.8915\n",
            "Epoch 38/50\n",
            "44/44 [==============================] - 8s 187ms/step - loss: 0.0708 - accuracy: 0.9786 - val_loss: 0.3829 - val_accuracy: 0.8970\n",
            "Epoch 39/50\n",
            "44/44 [==============================] - 8s 189ms/step - loss: 0.0603 - accuracy: 0.9829 - val_loss: 0.3904 - val_accuracy: 0.8915\n",
            "Epoch 40/50\n",
            "44/44 [==============================] - 9s 204ms/step - loss: 0.0575 - accuracy: 0.9829 - val_loss: 0.4132 - val_accuracy: 0.8929\n",
            "Epoch 41/50\n",
            "44/44 [==============================] - 7s 171ms/step - loss: 0.0526 - accuracy: 0.9851 - val_loss: 0.4113 - val_accuracy: 0.8948\n",
            "Epoch 42/50\n",
            "44/44 [==============================] - 9s 203ms/step - loss: 0.0532 - accuracy: 0.9840 - val_loss: 0.4004 - val_accuracy: 0.9003\n",
            "Epoch 43/50\n",
            "44/44 [==============================] - 9s 206ms/step - loss: 0.0506 - accuracy: 0.9848 - val_loss: 0.4267 - val_accuracy: 0.8874\n",
            "Epoch 44/50\n",
            "44/44 [==============================] - 7s 170ms/step - loss: 0.0532 - accuracy: 0.9822 - val_loss: 0.4159 - val_accuracy: 0.8973\n",
            "Epoch 45/50\n",
            "44/44 [==============================] - 9s 203ms/step - loss: 0.0385 - accuracy: 0.9895 - val_loss: 0.4393 - val_accuracy: 0.8970\n",
            "Epoch 46/50\n",
            "44/44 [==============================] - 9s 216ms/step - loss: 0.0361 - accuracy: 0.9914 - val_loss: 0.4437 - val_accuracy: 0.8944\n",
            "Epoch 47/50\n",
            "44/44 [==============================] - 7s 171ms/step - loss: 0.0293 - accuracy: 0.9934 - val_loss: 0.4630 - val_accuracy: 0.8981\n",
            "Epoch 48/50\n",
            "44/44 [==============================] - 9s 205ms/step - loss: 0.0283 - accuracy: 0.9939 - val_loss: 0.4551 - val_accuracy: 0.8955\n",
            "Epoch 49/50\n",
            "44/44 [==============================] - 9s 202ms/step - loss: 0.0215 - accuracy: 0.9961 - val_loss: 0.4797 - val_accuracy: 0.8962\n",
            "Epoch 50/50\n",
            "44/44 [==============================] - 8s 171ms/step - loss: 0.0247 - accuracy: 0.9946 - val_loss: 0.4908 - val_accuracy: 0.8973\n"
          ]
        }
      ]
    },
    {
      "cell_type": "code",
      "source": [
        "test_loss, test_acc = model.evaluate(test_x,  target_test, verbose=2)\n",
        "\n",
        "print('\\nTest accuracy:', test_acc)"
      ],
      "metadata": {
        "colab": {
          "base_uri": "https://localhost:8080/"
        },
        "id": "r-OByXTCx5_D",
        "outputId": "ca8987b7-e9fc-4766-dc52-18cc8d758197"
      },
      "execution_count": 37,
      "outputs": [
        {
          "output_type": "stream",
          "name": "stdout",
          "text": [
            "107/107 - 2s - loss: 0.4724 - accuracy: 0.8850 - 2s/epoch - 20ms/step\n",
            "\n",
            "Test accuracy: 0.8849765062332153\n"
          ]
        }
      ]
    },
    {
      "cell_type": "code",
      "source": [
        "prediction = model.predict(val_x)\n",
        "prediction.shape"
      ],
      "metadata": {
        "colab": {
          "base_uri": "https://localhost:8080/"
        },
        "id": "75HfukmKx8xk",
        "outputId": "b8f40e72-b8d3-4dd7-c610-d3a5e8ebf76b"
      },
      "execution_count": 38,
      "outputs": [
        {
          "output_type": "stream",
          "name": "stdout",
          "text": [
            "313/313 [==============================] - 4s 12ms/step\n"
          ]
        },
        {
          "output_type": "execute_result",
          "data": {
            "text/plain": [
              "(10000, 10)"
            ]
          },
          "metadata": {},
          "execution_count": 38
        }
      ]
    },
    {
      "cell_type": "code",
      "source": [
        "category=[]\n",
        "for i in prediction:\n",
        "    category.append(np.argmax(i))"
      ],
      "metadata": {
        "id": "8HsviaBhyAsj"
      },
      "execution_count": 39,
      "outputs": []
    },
    {
      "cell_type": "code",
      "source": [
        "plt.figure(figsize=(10,10))\n",
        "for i in range(25):\n",
        "    plt.subplot(5,5,i+1)\n",
        "    plt.xticks([])\n",
        "    plt.yticks([])\n",
        "    plt.grid(False)\n",
        "    plt.imshow(val_x[i], cmap=plt.cm.binary)\n",
        "    plt.xlabel(class_names[category[i]])\n",
        "plt.show()"
      ],
      "metadata": {
        "colab": {
          "base_uri": "https://localhost:8080/",
          "height": 826
        },
        "id": "GZ-Pod8MyCvF",
        "outputId": "1f2ec9a9-306a-4994-cd5d-6f9276c1733e"
      },
      "execution_count": 40,
      "outputs": [
        {
          "output_type": "display_data",
          "data": {
            "text/plain": [
              "<Figure size 1000x1000 with 25 Axes>"
            ],
            "image/png": "[encoded data removed]"
          },
          "metadata": {}
        }
      ]
    },
    {
      "cell_type": "code",
      "source": [
        "submission = {\n",
        "    'Id': list(test.Id.values),\n",
        "    'Category': category\n",
        "}\n",
        "solution = pd.DataFrame(submission)\n",
        "solution.to_csv('submission_my.csv',index=False)"
      ],
      "metadata": {
        "id": "w54yVadvyGMt"
      },
      "execution_count": 41,
      "outputs": []
    },
    {
      "cell_type": "code",
      "source": [
        "!kaggle competitions submit -c mds-ufu-dl-test -f submission_my.csv -m \"Message\" "
      ],
      "metadata": {
        "colab": {
          "base_uri": "https://localhost:8080/"
        },
        "id": "dkRFg9N9yJED",
        "outputId": "7ce96a6b-17f4-49af-97f7-dcf624a715f5"
      },
      "execution_count": 42,
      "outputs": [
        {
          "output_type": "stream",
          "name": "stdout",
          "text": [
            "100% 67.3k/67.3k [00:00<00:00, 146kB/s]\n",
            "Successfully submitted to [MDS-UFU-DL-TEST] Построение классификатора"
          ]
        }
      ]
    }
  ]
}